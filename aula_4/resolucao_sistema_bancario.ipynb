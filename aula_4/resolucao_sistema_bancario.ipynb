{
 "cells": [
  {
   "cell_type": "code",
   "execution_count": 2,
   "metadata": {},
   "outputs": [],
   "source": [
    "from datetime import date\n",
    "class Titular:\n",
    "    def __init__(self, nome: str, cpf: str, dt_nasc: date):\n",
    "        self._nome: str = nome\n",
    "        self._cpf: str = cpf\n",
    "        self._dt_nasc: date = dt_nasc\n",
    "\n",
    "    @property\n",
    "    def nome_titular(self) -> str:\n",
    "        return self._nome\n",
    "    \n",
    "    @nome_titular.setter\n",
    "    def nome_titular(self, nome: str) -> str:\n",
    "        self._nome\n",
    "\n",
    "    @property\n",
    "    def cpf_titular(self) -> str:\n",
    "        return self._cpf\n",
    "    \n",
    "    @property\n",
    "    def data_nascimento(self) -> str:\n",
    "        return self._dt_nasc  "
   ]
  },
  {
   "cell_type": "code",
   "execution_count": 5,
   "metadata": {},
   "outputs": [
    {
     "name": "stdout",
     "output_type": "stream",
     "text": [
      "Nome: Pedro\n"
     ]
    }
   ],
   "source": [
    "dt_nasc = date(year=1991, month=8, day=6)\n",
    "\n",
    "t1 = Titular('Pedro', '000.000.00-00', dt_nasc)\n",
    "print(\"Nome:\", t1.nome_titular)\n"
   ]
  },
  {
   "cell_type": "code",
   "execution_count": 6,
   "metadata": {},
   "outputs": [],
   "source": [
    "class ContaCorrente:\n",
    "    def __init__(self, titular: Titular, agencia: str, conta: str):\n",
    "        self._titular: Titular = titular\n",
    "        self._agencia: str = agencia\n",
    "        self._conta: str = conta\n",
    "        self._saldo: float = 0.0\n",
    "\n",
    "    @property\n",
    "    def titular(self) -> Titular:\n",
    "        return self._titular\n",
    "    \n",
    "    @property\n",
    "    def agencia(self) -> str:\n",
    "        return self._agencia\n",
    "    \n",
    "    @property\n",
    "    def conta(self) -> str:\n",
    "        return self._conta\n",
    "    \n",
    "    @property\n",
    "    def saldo(self) -> float:\n",
    "        return self._saldo\n",
    "    \n"
   ]
  }
 ],
 "metadata": {
  "kernelspec": {
   "display_name": "Python 3",
   "language": "python",
   "name": "python3"
  },
  "language_info": {
   "codemirror_mode": {
    "name": "ipython",
    "version": 3
   },
   "file_extension": ".py",
   "mimetype": "text/x-python",
   "name": "python",
   "nbconvert_exporter": "python",
   "pygments_lexer": "ipython3",
   "version": "3.10.10"
  }
 },
 "nbformat": 4,
 "nbformat_minor": 2
}

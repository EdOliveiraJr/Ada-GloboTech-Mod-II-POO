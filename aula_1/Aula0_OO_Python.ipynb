{
 "cells": [
  {
   "cell_type": "code",
   "execution_count": null,
   "id": "8ca5d0fc",
   "metadata": {},
   "outputs": [],
   "source": [
    "# Caracteristicas dessa estrutura sao chamados de atributos\n",
    "# Funcoes que essa estrutura pode realizar serao chamados de metodos"
   ]
  },
  {
   "cell_type": "code",
   "execution_count": null,
   "id": "211b1790",
   "metadata": {},
   "outputs": [],
   "source": [
    "# Uma forma de programar modelando elementos do mundo real, que sao compostos de uma forma central por uma estruta que contenha caracteristicas e funcoes executadas"
   ]
  },
  {
   "cell_type": "code",
   "execution_count": 1,
   "id": "403490f7",
   "metadata": {},
   "outputs": [],
   "source": [
    "vendedor = \"Mauricio\"\n",
    "listaFuncionarios = []\n",
    "vendas = 550\n",
    "meta = 500"
   ]
  },
  {
   "cell_type": "code",
   "execution_count": 2,
   "id": "598cd95e",
   "metadata": {},
   "outputs": [
    {
     "name": "stdout",
     "output_type": "stream",
     "text": [
      "Bateu a meta\n"
     ]
    }
   ],
   "source": [
    "if vendas >= meta:\n",
    "    print(\"Bateu a meta\")\n",
    "else:\n",
    "    print(\"Nao bateu a meta\")"
   ]
  },
  {
   "cell_type": "code",
   "execution_count": 36,
   "id": "321c7e2e",
   "metadata": {},
   "outputs": [],
   "source": [
    "class Funcionario():\n",
    "    #atributos: sao os elementos que caracterizam o classe\n",
    "    def __init__(self, nome):\n",
    "        self.nome = nome\n",
    "        self.vendas = 0\n",
    "    \n",
    "    #metodos: sao as acoes que a classe pode executar\n",
    "    def vendasRealizadas(self,vendas):\n",
    "        self.vendas = vendas\n",
    "        \n",
    "    def metaBatida(self, meta):\n",
    "        if self.vendas >= meta:\n",
    "            print(\"Bateu meta\")\n",
    "        else:\n",
    "            print(\"Nao bateu meta\")\n",
    "        \n",
    "    "
   ]
  },
  {
   "cell_type": "code",
   "execution_count": 37,
   "id": "2870bb57",
   "metadata": {},
   "outputs": [
    {
     "name": "stdout",
     "output_type": "stream",
     "text": [
      "Nao bateu meta\n"
     ]
    }
   ],
   "source": [
    "vendedor1 = Funcionario(\"Mauricio\")\n",
    "vendedor1.vendasRealizadas(50)\n",
    "vendedor1.metaBatida(70)"
   ]
  },
  {
   "cell_type": "code",
   "execution_count": 16,
   "id": "e9e6ba2e",
   "metadata": {},
   "outputs": [
    {
     "name": "stdout",
     "output_type": "stream",
     "text": [
      "Bateu meta\n"
     ]
    }
   ],
   "source": [
    "vendedor2 = Funcionario(\"Lira\")\n",
    "vendedor2.vendasRealizadas(60)\n",
    "vendedor2.metaBatida(50)"
   ]
  },
  {
   "cell_type": "code",
   "execution_count": 14,
   "id": "a5c2c154",
   "metadata": {},
   "outputs": [
    {
     "name": "stdout",
     "output_type": "stream",
     "text": [
      "<__main__.Funcionario object at 0x0000017C2DA0CC70>\n"
     ]
    }
   ],
   "source": [
    "print(vendedor1)"
   ]
  },
  {
   "cell_type": "code",
   "execution_count": 17,
   "id": "d8b5c687",
   "metadata": {},
   "outputs": [
    {
     "name": "stdout",
     "output_type": "stream",
     "text": [
      "<__main__.Funcionario object at 0x0000017C2DA0C100>\n"
     ]
    }
   ],
   "source": [
    "print(vendedor2)"
   ]
  },
  {
   "cell_type": "code",
   "execution_count": null,
   "id": "4b5b524e",
   "metadata": {},
   "outputs": [],
   "source": []
  },
  {
   "cell_type": "code",
   "execution_count": 26,
   "id": "ce3c4641",
   "metadata": {},
   "outputs": [],
   "source": [
    "class Pessoa:\n",
    "    def falar(self):\n",
    "        print(\"Estamos falando...\")\n",
    "    #pass"
   ]
  },
  {
   "cell_type": "code",
   "execution_count": 28,
   "id": "90e0cfaf",
   "metadata": {},
   "outputs": [],
   "source": [
    "p1 = Pessoa()\n",
    "p2 = Pessoa()"
   ]
  },
  {
   "cell_type": "code",
   "execution_count": 29,
   "id": "88d9dccd",
   "metadata": {},
   "outputs": [
    {
     "name": "stdout",
     "output_type": "stream",
     "text": [
      "Luiz\n"
     ]
    }
   ],
   "source": [
    "p1.nome = \"Luiz\"\n",
    "print(p1.nome)"
   ]
  },
  {
   "cell_type": "code",
   "execution_count": 30,
   "id": "12a93a19",
   "metadata": {},
   "outputs": [
    {
     "name": "stdout",
     "output_type": "stream",
     "text": [
      "Estamos falando...\n"
     ]
    }
   ],
   "source": [
    "p1.falar()"
   ]
  },
  {
   "cell_type": "code",
   "execution_count": 35,
   "id": "c08794e2",
   "metadata": {},
   "outputs": [],
   "source": [
    "class Pessoa:\n",
    "    def __init__(self, nome, idade, comendo=False, falando=False):\n",
    "        self.nome = nome\n",
    "        self.idade = idade\n",
    "        self.comendo = comendo\n",
    "        self.falando = falando\n",
    "        \n",
    "        def comer(self, alimento):\n",
    "            if self.comendo:\n",
    "                print(f'{self.nome} já está comendo.')\n",
    "                return\n",
    "            print(f'{self.nome} está comendo {alimento}.')\n",
    "            self.comendo = True\n",
    "        \n",
    "        def parar_comer(self):\n",
    "            if not self.comendo:\n",
    "                print(f'{self.nome} não está comendo.')\n",
    "                return\n",
    "        #pass"
   ]
  },
  {
   "cell_type": "code",
   "execution_count": null,
   "id": "194d4233",
   "metadata": {},
   "outputs": [],
   "source": []
  },
  {
   "cell_type": "code",
   "execution_count": null,
   "id": "344684e4",
   "metadata": {},
   "outputs": [],
   "source": []
  }
 ],
 "metadata": {
  "kernelspec": {
   "display_name": "Python 3 (ipykernel)",
   "language": "python",
   "name": "python3"
  },
  "language_info": {
   "codemirror_mode": {
    "name": "ipython",
    "version": 3
   },
   "file_extension": ".py",
   "mimetype": "text/x-python",
   "name": "python",
   "nbconvert_exporter": "python",
   "pygments_lexer": "ipython3",
   "version": "3.8.9"
  }
 },
 "nbformat": 4,
 "nbformat_minor": 5
}
